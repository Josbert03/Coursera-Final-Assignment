{
 "cells": [
  {
   "cell_type": "markdown",
   "id": "995dce02-47c4-4e39-b5c8-e0627bea19ae",
   "metadata": {},
   "source": [
    "# Data Science Tools and Ecosystem"
   ]
  },
  {
   "cell_type": "markdown",
   "id": "403611eb-08f2-4a05-9a33-c4082ddb8c2d",
   "metadata": {},
   "source": [
    "In this notbook, Data Science Tools and Ecosystem are summarized."
   ]
  },
  {
   "cell_type": "markdown",
   "id": "7c7dda0d-7598-416d-9b44-bc14fbe4f35b",
   "metadata": {},
   "source": [
    "**Objectives:**\n",
    "- List popular languages for Data Science\n",
    "- List commonly used libraries for Data Science\n",
    "- List used tools for Data Science\n",
    "- Observe arithmetic expressions in Python"
   ]
  },
  {
   "cell_type": "markdown",
   "id": "bc35b67b-3eed-493b-b012-012481a033f0",
   "metadata": {},
   "source": [
    "Some of the popular languages that Data Scientists use are:\n",
    "1. Python\n",
    "2. R\n",
    "3. SQL"
   ]
  },
  {
   "cell_type": "markdown",
   "id": "f55e89a7-1df0-4de9-9199-97edb5475d7d",
   "metadata": {},
   "source": [
    "Some of the commonly used libraries used by Data Scientists include:\n",
    "1. Pandas\n",
    "2. Matplotlib\n",
    "3. TensorFlow"
   ]
  },
  {
   "cell_type": "markdown",
   "id": "f88b04ba-fb9c-4872-959f-db04dd8c18d8",
   "metadata": {},
   "source": [
    "| Data Science Tools |\n",
    "| ------------------ |\n",
    "| Jupyter Notebooks |\n",
    "| GitHub |\n",
    "| Anaconda |"
   ]
  },
  {
   "cell_type": "markdown",
   "id": "5456d556-b1c8-4df3-bd77-0e87c374a281",
   "metadata": {},
   "source": [
    "### Below are a few examples of evaluating arithmetic expressions in Python"
   ]
  },
  {
   "cell_type": "code",
   "execution_count": 10,
   "id": "f19576b5-af1b-40bf-b33a-f8046f99d4ef",
   "metadata": {},
   "outputs": [
    {
     "data": {
      "text/plain": [
       "17"
      ]
     },
     "execution_count": 10,
     "metadata": {},
     "output_type": "execute_result"
    }
   ],
   "source": [
    "#This is a simple arithmetic expression to multiply then add integers\n",
    "(3*4)+5"
   ]
  },
  {
   "cell_type": "code",
   "execution_count": 12,
   "id": "2f6ffc72-1a15-45e7-a06e-d5b2af53dead",
   "metadata": {},
   "outputs": [
    {
     "data": {
      "text/plain": [
       "3.3333333333333335"
      ]
     },
     "execution_count": 12,
     "metadata": {},
     "output_type": "execute_result"
    }
   ],
   "source": [
    "#This will convert 200 minutes to hours by dividing by 60\n",
    "200 / 60"
   ]
  },
  {
   "cell_type": "markdown",
   "id": "918d6da2-1715-4776-ad5c-5c127395d416",
   "metadata": {},
   "source": [
    "## Author\n",
    "Jos Chang"
   ]
  },
  {
   "cell_type": "code",
   "execution_count": null,
   "id": "b2e4aaa5-2536-4ba8-ab43-c02f41cde2ca",
   "metadata": {},
   "outputs": [],
   "source": []
  }
 ],
 "metadata": {
  "kernelspec": {
   "display_name": "Python [conda env:base] *",
   "language": "python",
   "name": "conda-base-py"
  },
  "language_info": {
   "codemirror_mode": {
    "name": "ipython",
    "version": 3
   },
   "file_extension": ".py",
   "mimetype": "text/x-python",
   "name": "python",
   "nbconvert_exporter": "python",
   "pygments_lexer": "ipython3",
   "version": "3.12.7"
  }
 },
 "nbformat": 4,
 "nbformat_minor": 5
}
